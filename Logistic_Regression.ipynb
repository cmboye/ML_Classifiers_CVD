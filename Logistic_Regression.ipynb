{
 "cells": [
  {
   "cell_type": "markdown",
   "id": "43f7826e-4f18-4b87-96cd-c6c3030d9b28",
   "metadata": {},
   "source": [
    "# Implement logistic regression to classify samples as CVD or not \n",
    "## Workflow: \n",
    "1. Read in data\n",
    "1. Prepare logistic regression\n",
    "     1. Set parameters\n",
    "     2. Define sigmoid function\n",
    "     3. Train model: Compute gradients and update weights and bias\n",
    "     4. Use model to classify test samples\n",
    "1. Perform kfold cross-validation to assess performance"
   ]
  },
  {
   "cell_type": "code",
   "execution_count": 31,
   "id": "1b8de1e5-b7f8-4f78-bb47-907938ab46ba",
   "metadata": {},
   "outputs": [
    {
     "name": "stdout",
     "output_type": "stream",
     "text": [
      "Skipping, found downloaded files in \".\\cardiovascular-disease-dataset\" (use force=True to force download)\n"
     ]
    }
   ],
   "source": [
    "#Import libraries \n",
    "import opendatasets as od \n",
    "import pandas as pd\n",
    "import numpy as np\n",
    "\n",
    "#Read dataset. Note that this requires a Kaggle account\n",
    "od.download(\"https://www.kaggle.com/datasets/sulianova/cardiovascular-disease-dataset\") \n",
    "\n",
    "file=('cardiovascular-disease-dataset/cardio_train.csv') \n",
    "df = pd.read_csv(file,sep=';') \n",
    "  \n",
    "#Preview the data\n",
    "df.head() \n",
    "\n",
    "#Since 'weight' is float, need to change it to int\n",
    "df = df.astype(int)"
   ]
  },
  {
   "cell_type": "code",
   "execution_count": 32,
   "id": "1abc05f6-79b1-4497-b394-be4fbe8ff02a",
   "metadata": {},
   "outputs": [],
   "source": [
    "#Logistic regression using gradient descent\n",
    "class LogisticRegression:\n",
    "    def __init__(self, learning_rate=0.01, n_iterations=1000): \n",
    "        self.learning_rate = learning_rate #Step size for gradient descent\n",
    "        self.n_iterations = n_iterations #Number of iterations for training\n",
    "        self.weights = None\n",
    "        self.bias = None\n",
    "\n",
    "    def sigmoid(self, z):\n",
    "        return 1 / (1 + np.exp(-z)) #Sigmoid function\n",
    "\n",
    "    #Train the logistic regression model using gradient descent\n",
    "    def fit(self, X, y): \n",
    "        n_samples, n_features = X.shape\n",
    "        self.weights = np.zeros(n_features)  #Weights (parameters) of the model\n",
    "        self.bias = 0  #Bias term of the model\n",
    "        \n",
    "        #Gradient descent\n",
    "        for _ in range(self.n_iterations):\n",
    "            #Linear model: z = X * weights + bias\n",
    "            linear_model = np.dot(X, self.weights) + self.bias\n",
    "            # Apply sigmoid function\n",
    "            y_pred = self.sigmoid(linear_model)\n",
    "            \n",
    "            #Compute gradients (partial derivatives of the loss w.r.t weights and bias)\n",
    "            dw = (1 / n_samples) * np.dot(X.T, (y_pred - y)) \n",
    "            db = (1 / n_samples) * np.sum(y_pred - y)\n",
    "            \n",
    "            #Update weights and bias\n",
    "            self.weights -= self.learning_rate * dw\n",
    "            self.bias -= self.learning_rate * db\n",
    "    \n",
    "    #Use the model to classify test samples\n",
    "    def classify(self, X):\n",
    "        linear_model = np.dot(X, self.weights) + self.bias\n",
    "        y_pred = self.sigmoid(linear_model)\n",
    "        return np.round(y_pred)"
   ]
  },
  {
   "cell_type": "code",
   "execution_count": 41,
   "id": "052a6a86-c526-44ab-a7f1-bbac49f711d5",
   "metadata": {},
   "outputs": [],
   "source": [
    "#K-fold cross-validation \n",
    "def kfold_crossvalidation(feats,targets,k=3,lr=0.01): #feats is features to train the model on, targets is the target variable (CVD), k is number of folds \n",
    "    #Find number of samples\n",
    "    n_samples = feats.shape[0]\n",
    "\n",
    "    #Determine fold size\n",
    "    fold_size= n_samples//k #Use // to return only integer\n",
    "\n",
    "    #List to store the performance scores\n",
    "    performance = []\n",
    "\n",
    "    for i in range(k):\n",
    "        #Define test and train indices\n",
    "        test_start = i * fold_size\n",
    "        test_end = (i + 1) * fold_size if i != k - 1 else n_samples\n",
    "\n",
    "        # Split data into train and test (features and targets)\n",
    "        feats_train = np.concatenate([feats[:test_start], feats[test_end:]], axis=0)\n",
    "        targets_train = np.concatenate([targets[:test_start], targets[test_end:]], axis=0)\n",
    "        feats_test = feats[test_start:test_end]\n",
    "        targets_test = targets[test_start:test_end]\n",
    "\n",
    "        #Train model\n",
    "        model = LogisticRegression(learning_rate=lr)\n",
    "        model.fit(feats_train,targets_train)\n",
    "        \n",
    "        #Test model\n",
    "        pred = model.classify(feats_test)\n",
    "\n",
    "        #Calculate performance\n",
    "        def performance_sys(test_true, prediction):\n",
    "            # Count correct predictions\n",
    "            correct_predictions = sum([1 if test_true == prediction else 0 for test_true, prediction in zip(test_true, prediction)])\n",
    "    \n",
    "            # Calculate accuracy\n",
    "            accuracy = correct_predictions / len(test_true)\n",
    "\n",
    "            return accuracy\n",
    "            \n",
    "        #Run performance calculation \n",
    "        performance_score = [] #Init performance score\n",
    "        performance = performance_sys(np.array(targets_test),pred)    \n",
    "        performance_score.append(performance)\n",
    "\n",
    "    #Find average performance\n",
    "    score = np.mean(performance_score)\n",
    "    return score    "
   ]
  },
  {
   "cell_type": "code",
   "execution_count": 15,
   "id": "27fda328-22d9-429f-af50-8c9255ce52e9",
   "metadata": {},
   "outputs": [
    {
     "name": "stderr",
     "output_type": "stream",
     "text": [
      "C:\\Users\\Carly_PC\\AppData\\Local\\Temp\\ipykernel_13044\\571627016.py:10: RuntimeWarning: overflow encountered in exp\n",
      "  return 1 / (1 + np.exp(-z)) #Sigmoid function\n"
     ]
    },
    {
     "data": {
      "text/plain": [
       "0.4995"
      ]
     },
     "execution_count": 15,
     "metadata": {},
     "output_type": "execute_result"
    }
   ],
   "source": [
    "#Run the above (log regression and cross validation)\n",
    "kfold_crossvalidation(df.drop(columns=['id','cardio'], inplace=False), df.loc[:,'cardio'], k=5) #Set features as all information except id and target, set CVD status as target"
   ]
  },
  {
   "cell_type": "markdown",
   "id": "19d2f94e-e948-47b1-9c63-31aa3ebbc489",
   "metadata": {},
   "source": [
    "## Here we see that not updating any parameters, not utilizing any EDA, and using all features results in a 0.4995 (49.95%) accuracy score. Below, I will try to improve this. "
   ]
  },
  {
   "cell_type": "code",
   "execution_count": 35,
   "id": "ec2f37a0-b216-4635-9242-29fd638e0b36",
   "metadata": {},
   "outputs": [
    {
     "data": {
      "text/html": [
       "<div>\n",
       "<style scoped>\n",
       "    .dataframe tbody tr th:only-of-type {\n",
       "        vertical-align: middle;\n",
       "    }\n",
       "\n",
       "    .dataframe tbody tr th {\n",
       "        vertical-align: top;\n",
       "    }\n",
       "\n",
       "    .dataframe thead th {\n",
       "        text-align: right;\n",
       "    }\n",
       "</style>\n",
       "<table border=\"1\" class=\"dataframe\">\n",
       "  <thead>\n",
       "    <tr style=\"text-align: right;\">\n",
       "      <th></th>\n",
       "      <th>id</th>\n",
       "      <th>age</th>\n",
       "      <th>gender</th>\n",
       "      <th>height</th>\n",
       "      <th>weight</th>\n",
       "      <th>ap_hi</th>\n",
       "      <th>ap_lo</th>\n",
       "      <th>smoke</th>\n",
       "      <th>alco</th>\n",
       "      <th>active</th>\n",
       "      <th>cardio</th>\n",
       "      <th>cholesterol_1</th>\n",
       "      <th>cholesterol_2</th>\n",
       "      <th>cholesterol_3</th>\n",
       "      <th>gluc_1</th>\n",
       "      <th>gluc_2</th>\n",
       "      <th>gluc_3</th>\n",
       "    </tr>\n",
       "  </thead>\n",
       "  <tbody>\n",
       "    <tr>\n",
       "      <th>0</th>\n",
       "      <td>0</td>\n",
       "      <td>18393</td>\n",
       "      <td>2</td>\n",
       "      <td>168</td>\n",
       "      <td>62</td>\n",
       "      <td>110</td>\n",
       "      <td>80</td>\n",
       "      <td>0</td>\n",
       "      <td>0</td>\n",
       "      <td>1</td>\n",
       "      <td>0</td>\n",
       "      <td>1</td>\n",
       "      <td>0</td>\n",
       "      <td>0</td>\n",
       "      <td>1</td>\n",
       "      <td>0</td>\n",
       "      <td>0</td>\n",
       "    </tr>\n",
       "    <tr>\n",
       "      <th>1</th>\n",
       "      <td>1</td>\n",
       "      <td>20228</td>\n",
       "      <td>1</td>\n",
       "      <td>156</td>\n",
       "      <td>85</td>\n",
       "      <td>140</td>\n",
       "      <td>90</td>\n",
       "      <td>0</td>\n",
       "      <td>0</td>\n",
       "      <td>1</td>\n",
       "      <td>1</td>\n",
       "      <td>0</td>\n",
       "      <td>0</td>\n",
       "      <td>1</td>\n",
       "      <td>1</td>\n",
       "      <td>0</td>\n",
       "      <td>0</td>\n",
       "    </tr>\n",
       "    <tr>\n",
       "      <th>2</th>\n",
       "      <td>2</td>\n",
       "      <td>18857</td>\n",
       "      <td>1</td>\n",
       "      <td>165</td>\n",
       "      <td>64</td>\n",
       "      <td>130</td>\n",
       "      <td>70</td>\n",
       "      <td>0</td>\n",
       "      <td>0</td>\n",
       "      <td>0</td>\n",
       "      <td>1</td>\n",
       "      <td>0</td>\n",
       "      <td>0</td>\n",
       "      <td>1</td>\n",
       "      <td>1</td>\n",
       "      <td>0</td>\n",
       "      <td>0</td>\n",
       "    </tr>\n",
       "    <tr>\n",
       "      <th>3</th>\n",
       "      <td>3</td>\n",
       "      <td>17623</td>\n",
       "      <td>2</td>\n",
       "      <td>169</td>\n",
       "      <td>82</td>\n",
       "      <td>150</td>\n",
       "      <td>100</td>\n",
       "      <td>0</td>\n",
       "      <td>0</td>\n",
       "      <td>1</td>\n",
       "      <td>1</td>\n",
       "      <td>1</td>\n",
       "      <td>0</td>\n",
       "      <td>0</td>\n",
       "      <td>1</td>\n",
       "      <td>0</td>\n",
       "      <td>0</td>\n",
       "    </tr>\n",
       "    <tr>\n",
       "      <th>4</th>\n",
       "      <td>4</td>\n",
       "      <td>17474</td>\n",
       "      <td>1</td>\n",
       "      <td>156</td>\n",
       "      <td>56</td>\n",
       "      <td>100</td>\n",
       "      <td>60</td>\n",
       "      <td>0</td>\n",
       "      <td>0</td>\n",
       "      <td>0</td>\n",
       "      <td>0</td>\n",
       "      <td>1</td>\n",
       "      <td>0</td>\n",
       "      <td>0</td>\n",
       "      <td>1</td>\n",
       "      <td>0</td>\n",
       "      <td>0</td>\n",
       "    </tr>\n",
       "  </tbody>\n",
       "</table>\n",
       "</div>"
      ],
      "text/plain": [
       "   id    age  gender  height  weight  ap_hi  ap_lo  smoke  alco  active  \\\n",
       "0   0  18393       2     168      62    110     80      0     0       1   \n",
       "1   1  20228       1     156      85    140     90      0     0       1   \n",
       "2   2  18857       1     165      64    130     70      0     0       0   \n",
       "3   3  17623       2     169      82    150    100      0     0       1   \n",
       "4   4  17474       1     156      56    100     60      0     0       0   \n",
       "\n",
       "   cardio  cholesterol_1  cholesterol_2  cholesterol_3  gluc_1  gluc_2  gluc_3  \n",
       "0       0              1              0              0       1       0       0  \n",
       "1       1              0              0              1       1       0       0  \n",
       "2       1              0              0              1       1       0       0  \n",
       "3       1              1              0              0       1       0       0  \n",
       "4       0              1              0              0       1       0       0  "
      ]
     },
     "execution_count": 35,
     "metadata": {},
     "output_type": "execute_result"
    }
   ],
   "source": [
    "#Encode dummy variables:\n",
    "df1 = pd.get_dummies(df, columns=['cholesterol', 'gluc'])\n",
    "df1 = df1*1\n",
    "df1.head()"
   ]
  },
  {
   "cell_type": "code",
   "execution_count": 38,
   "id": "ed41fc80-1c62-4aca-8f95-ae8410e9f7ac",
   "metadata": {},
   "outputs": [
    {
     "name": "stderr",
     "output_type": "stream",
     "text": [
      "C:\\Users\\Carly_PC\\AppData\\Local\\Temp\\ipykernel_13044\\571627016.py:10: RuntimeWarning: overflow encountered in exp\n",
      "  return 1 / (1 + np.exp(-z)) #Sigmoid function\n"
     ]
    },
    {
     "data": {
      "text/plain": [
       "0.4995"
      ]
     },
     "execution_count": 38,
     "metadata": {},
     "output_type": "execute_result"
    }
   ],
   "source": [
    "kfold_crossvalidation(df1.drop(columns=['id','cardio'], inplace=False), df1.loc[:,'cardio'], k=5) #Dummy variables did not improve performance "
   ]
  },
  {
   "cell_type": "code",
   "execution_count": 39,
   "id": "254b7630-853e-428e-9f7b-9e65a1c04b18",
   "metadata": {},
   "outputs": [
    {
     "name": "stderr",
     "output_type": "stream",
     "text": [
      "C:\\Users\\Carly_PC\\AppData\\Local\\Temp\\ipykernel_13044\\571627016.py:10: RuntimeWarning: overflow encountered in exp\n",
      "  return 1 / (1 + np.exp(-z)) #Sigmoid function\n"
     ]
    },
    {
     "data": {
      "text/plain": [
       "0.5005714285714286"
      ]
     },
     "execution_count": 39,
     "metadata": {},
     "output_type": "execute_result"
    }
   ],
   "source": [
    "kfold_crossvalidation(df1.loc[:,['age','cholesterol_1','cholesterol_2','cholesterol_3','weight']], df1.loc[:,'cardio'], k=5) #Removing variables with little predictive power increased performance slightly"
   ]
  },
  {
   "cell_type": "code",
   "execution_count": 43,
   "id": "6c5f28ce-1d1e-49cb-b5f2-521df19a2a30",
   "metadata": {},
   "outputs": [
    {
     "name": "stderr",
     "output_type": "stream",
     "text": [
      "C:\\Users\\Carly_PC\\AppData\\Local\\Temp\\ipykernel_13044\\571627016.py:10: RuntimeWarning: overflow encountered in exp\n",
      "  return 1 / (1 + np.exp(-z)) #Sigmoid function\n"
     ]
    },
    {
     "data": {
      "text/plain": [
       "0.5005714285714286"
      ]
     },
     "execution_count": 43,
     "metadata": {},
     "output_type": "execute_result"
    }
   ],
   "source": [
    "kfold_crossvalidation(df1.loc[:,['age','cholesterol_1','cholesterol_2','cholesterol_3','weight']], df1.loc[:,'cardio'], k=5,lr=0.0001) #Changing learning rate did not affect result"
   ]
  },
  {
   "cell_type": "markdown",
   "id": "008b20ef-e3d8-492a-a94d-3fd5d55748dd",
   "metadata": {},
   "source": [
    "## Future directions:\n",
    "### Adding a function to monitor the gradient descent could aid in troubleshooting and optimizing parameters. Additionally, further EDA (particularly for feature selection) or exploring scaling numerical features might improve performance. Further exploration of the learning rate, as well as testing other similar datasets, could also inform method optimization. "
   ]
  }
 ],
 "metadata": {
  "kernelspec": {
   "display_name": "Python 3 (ipykernel)",
   "language": "python",
   "name": "python3"
  },
  "language_info": {
   "codemirror_mode": {
    "name": "ipython",
    "version": 3
   },
   "file_extension": ".py",
   "mimetype": "text/x-python",
   "name": "python",
   "nbconvert_exporter": "python",
   "pygments_lexer": "ipython3",
   "version": "3.12.2"
  }
 },
 "nbformat": 4,
 "nbformat_minor": 5
}
